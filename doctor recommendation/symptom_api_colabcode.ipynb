{
  "cells": [
    {
      "cell_type": "code",
      "execution_count": 1,
      "metadata": {
        "id": "B0uMmwklRlo6"
      },
      "outputs": [],
      "source": [
        "import pandas as pd\n",
        "import numpy as np\n",
        "import joblib\n",
        "import matplotlib.pyplot as plt\n",
        "import seaborn as sns\n",
        "import warnings\n",
        "import pickle\n",
        "warnings.filterwarnings(\"ignore\")\n",
        "from sklearn.model_selection import train_test_split\n",
        "from sklearn.neighbors import KNeighborsClassifier\n",
        "from sklearn.naive_bayes import GaussianNB\n",
        "from sklearn import svm\n",
        "from sklearn.ensemble import RandomForestClassifier\n",
        "from sklearn.preprocessing import LabelEncoder\n",
        "from sklearn import metrics\n",
        "from sklearn.metrics import confusion_matrix\n",
        "from collections import Counter"
      ]
    },
    {
      "cell_type": "code",
      "execution_count": 39,
      "metadata": {
        "colab": {
          "base_uri": "https://localhost:8080/"
        },
        "id": "5kAGV-7AV6U9",
        "outputId": "b2a11eb1-f427-4099-fdaa-f6b6d9fec18c"
      },
      "outputs": [
        {
          "name": "stdout",
          "output_type": "stream",
          "text": [
            "https://raw.githubusercontent.com/maver1ck1209/Hackrx-HealthGenie/main/doctor%20recommendation/data/Original_Dataset.csv\n"
          ]
        }
      ],
      "source": [
        "link = \"https://github.com/maver1ck1209/Hackrx-HealthGenie/blob/main/doctor%20recommendation/data/Original_Dataset.csv\"\n",
        "print(link.replace(\"github.com\", \"raw.githubusercontent.com\").replace(\"/blob/\", \"/\"))"
      ]
    },
    {
      "cell_type": "code",
      "execution_count": 2,
      "metadata": {
        "id": "QTzCJb7oT4sW"
      },
      "outputs": [],
      "source": [
        "sd_data = pd.read_csv(\"https://raw.githubusercontent.com/maver1ck1209/Hackrx-HealthGenie/main/doctor%20recommendation/data/Original_Dataset.csv\",  index_col=None)"
      ]
    },
    {
      "cell_type": "code",
      "execution_count": 3,
      "metadata": {
        "id": "hvSE6iYuWc5I"
      },
      "outputs": [],
      "source": [
        "sc = np.array(sd_data.columns)\n",
        "sc = sc[1:]"
      ]
    },
    {
      "cell_type": "code",
      "execution_count": 4,
      "metadata": {
        "colab": {
          "base_uri": "https://localhost:8080/"
        },
        "id": "-32gG3uwWffS",
        "outputId": "cf0b99b4-bb30-4c60-c836-7582833d57fe"
      },
      "outputs": [
        {
          "name": "stdout",
          "output_type": "stream",
          "text": [
            "[nan, ' skin_rash', ' chills', ' extra_marital_contacts', ' high_fever', ' lack_of_concentration', ' acidity', ' spotting_ urination', ' nodal_skin_eruptions', ' dark_urine', ' visual_disturbances', ' sunken_eyes', ' throat_irritation', ' sweating', ' swollen_extremeties', ' distention_of_abdomen', ' knee_pain', ' silver_like_dusting', ' pain_in_anal_region', ' nausea', ' depression', ' abdominal_pain', ' mucoid_sputum', ' runny_nose', ' loss_of_appetite', ' yellow_crust_ooze', ' slurred_speech', ' headache', ' rusty_sputum', ' hip_joint_pain', ' weakness_of_one_body_side', ' neck_pain', ' continuous_sneezing', ' blister', ' family_history', ' cough', ' yellowish_skin', ' prominent_veins_on_calf', ' muscle_wasting', ' weakness_in_limbs', ' vomiting', ' congestion', ' yellow_urine', ' mood_swings', ' shivering', ' swelled_lymph_nodes', ' stomach_pain', ' phlegm', ' cramps', ' muscle_pain', ' malaise', ' blackheads', ' swollen_blood_vessels', ' scurring', ' inflammatory_nails', ' weight_gain', ' dischromic _patches', ' skin_peeling', ' history_of_alcohol_consumption', ' back_pain', ' loss_of_smell', ' irritability', ' sinus_pressure', ' chest_pain', ' joint_pain', ' belly_pain', ' breathlessness', ' blurred_and_distorted_vision', ' diarrhoea', ' continuous_feel_of_urine', ' increased_appetite', ' swelling_joints', ' constipation', ' obesity', ' pain_during_bowel_movements', ' abnormal_menstruation', ' bladder_discomfort', ' swollen_legs', ' mild_fever', ' coma', ' bruising', ' enlarged_thyroid', ' altered_sensorium', ' palpitations', ' painful_walking', ' small_dents_in_nails', ' unsteadiness', ' stiff_neck', ' restlessness', ' acute_liver_failure', ' foul_smell_of urine', ' stomach_bleeding', ' anxiety', ' red_sore_around_nose', ' red_spots_over_body', ' lethargy', ' irregular_sugar_level', ' polyuria', ' puffy_face_and_eyes', ' yellowing_of_eyes', ' movement_stiffness', ' loss_of_balance', ' redness_of_eyes', ' fast_heart_rate', ' receiving_unsterile_injections', ' toxic_look_(typhos)', 'itching', ' ulcers_on_tongue', ' irritation_in_anus', ' muscle_weakness', ' passage_of_gases', ' fluid_overload', ' pus_filled_pimples', ' drying_and_tingling_lips', ' burning_micturition', ' spinning_movements', ' dehydration', ' bloody_stool', ' blood_in_sputum', ' internal_itching', ' patches_in_throat', ' indigestion', ' dizziness', ' pain_behind_the_eyes', ' excessive_hunger', ' fatigue', ' weight_loss', ' brittle_nails', ' cold_hands_and_feets', ' receiving_blood_transfusion', ' swelling_of_stomach', ' watering_from_eyes']\n"
          ]
        }
      ],
      "source": [
        "sym = np.array(sd_data.iloc[:, 1:].values.flatten())\n",
        "sym = list(set(sym))\n",
        "print(sym)"
      ]
    },
    {
      "cell_type": "code",
      "execution_count": 5,
      "metadata": {
        "colab": {
          "base_uri": "https://localhost:8080/",
          "height": 386
        },
        "id": "UddsMfZyWh4T",
        "outputId": "45939a10-1e32-4396-9978-96580f5e8308"
      },
      "outputs": [
        {
          "data": {
            "text/html": [
              "<div>\n",
              "<style scoped>\n",
              "    .dataframe tbody tr th:only-of-type {\n",
              "        vertical-align: middle;\n",
              "    }\n",
              "\n",
              "    .dataframe tbody tr th {\n",
              "        vertical-align: top;\n",
              "    }\n",
              "\n",
              "    .dataframe thead th {\n",
              "        text-align: right;\n",
              "    }\n",
              "</style>\n",
              "<table border=\"1\" class=\"dataframe\">\n",
              "  <thead>\n",
              "    <tr style=\"text-align: right;\">\n",
              "      <th></th>\n",
              "      <th>Disease</th>\n",
              "      <th>NaN</th>\n",
              "      <th>skin_rash</th>\n",
              "      <th>chills</th>\n",
              "      <th>extra_marital_contacts</th>\n",
              "      <th>high_fever</th>\n",
              "      <th>lack_of_concentration</th>\n",
              "      <th>acidity</th>\n",
              "      <th>spotting_ urination</th>\n",
              "      <th>nodal_skin_eruptions</th>\n",
              "      <th>...</th>\n",
              "      <th>dizziness</th>\n",
              "      <th>pain_behind_the_eyes</th>\n",
              "      <th>excessive_hunger</th>\n",
              "      <th>fatigue</th>\n",
              "      <th>weight_loss</th>\n",
              "      <th>brittle_nails</th>\n",
              "      <th>cold_hands_and_feets</th>\n",
              "      <th>receiving_blood_transfusion</th>\n",
              "      <th>swelling_of_stomach</th>\n",
              "      <th>watering_from_eyes</th>\n",
              "    </tr>\n",
              "  </thead>\n",
              "  <tbody>\n",
              "    <tr>\n",
              "      <th>0</th>\n",
              "      <td>Fungal infection</td>\n",
              "      <td>0</td>\n",
              "      <td>1</td>\n",
              "      <td>0</td>\n",
              "      <td>0</td>\n",
              "      <td>0</td>\n",
              "      <td>0</td>\n",
              "      <td>0</td>\n",
              "      <td>0</td>\n",
              "      <td>1</td>\n",
              "      <td>...</td>\n",
              "      <td>0</td>\n",
              "      <td>0</td>\n",
              "      <td>0</td>\n",
              "      <td>0</td>\n",
              "      <td>0</td>\n",
              "      <td>0</td>\n",
              "      <td>0</td>\n",
              "      <td>0</td>\n",
              "      <td>0</td>\n",
              "      <td>0</td>\n",
              "    </tr>\n",
              "    <tr>\n",
              "      <th>1</th>\n",
              "      <td>Fungal infection</td>\n",
              "      <td>0</td>\n",
              "      <td>1</td>\n",
              "      <td>0</td>\n",
              "      <td>0</td>\n",
              "      <td>0</td>\n",
              "      <td>0</td>\n",
              "      <td>0</td>\n",
              "      <td>0</td>\n",
              "      <td>1</td>\n",
              "      <td>...</td>\n",
              "      <td>0</td>\n",
              "      <td>0</td>\n",
              "      <td>0</td>\n",
              "      <td>0</td>\n",
              "      <td>0</td>\n",
              "      <td>0</td>\n",
              "      <td>0</td>\n",
              "      <td>0</td>\n",
              "      <td>0</td>\n",
              "      <td>0</td>\n",
              "    </tr>\n",
              "    <tr>\n",
              "      <th>2</th>\n",
              "      <td>Fungal infection</td>\n",
              "      <td>0</td>\n",
              "      <td>0</td>\n",
              "      <td>0</td>\n",
              "      <td>0</td>\n",
              "      <td>0</td>\n",
              "      <td>0</td>\n",
              "      <td>0</td>\n",
              "      <td>0</td>\n",
              "      <td>1</td>\n",
              "      <td>...</td>\n",
              "      <td>0</td>\n",
              "      <td>0</td>\n",
              "      <td>0</td>\n",
              "      <td>0</td>\n",
              "      <td>0</td>\n",
              "      <td>0</td>\n",
              "      <td>0</td>\n",
              "      <td>0</td>\n",
              "      <td>0</td>\n",
              "      <td>0</td>\n",
              "    </tr>\n",
              "    <tr>\n",
              "      <th>3</th>\n",
              "      <td>Fungal infection</td>\n",
              "      <td>0</td>\n",
              "      <td>1</td>\n",
              "      <td>0</td>\n",
              "      <td>0</td>\n",
              "      <td>0</td>\n",
              "      <td>0</td>\n",
              "      <td>0</td>\n",
              "      <td>0</td>\n",
              "      <td>0</td>\n",
              "      <td>...</td>\n",
              "      <td>0</td>\n",
              "      <td>0</td>\n",
              "      <td>0</td>\n",
              "      <td>0</td>\n",
              "      <td>0</td>\n",
              "      <td>0</td>\n",
              "      <td>0</td>\n",
              "      <td>0</td>\n",
              "      <td>0</td>\n",
              "      <td>0</td>\n",
              "    </tr>\n",
              "    <tr>\n",
              "      <th>4</th>\n",
              "      <td>Fungal infection</td>\n",
              "      <td>0</td>\n",
              "      <td>1</td>\n",
              "      <td>0</td>\n",
              "      <td>0</td>\n",
              "      <td>0</td>\n",
              "      <td>0</td>\n",
              "      <td>0</td>\n",
              "      <td>0</td>\n",
              "      <td>1</td>\n",
              "      <td>...</td>\n",
              "      <td>0</td>\n",
              "      <td>0</td>\n",
              "      <td>0</td>\n",
              "      <td>0</td>\n",
              "      <td>0</td>\n",
              "      <td>0</td>\n",
              "      <td>0</td>\n",
              "      <td>0</td>\n",
              "      <td>0</td>\n",
              "      <td>0</td>\n",
              "    </tr>\n",
              "  </tbody>\n",
              "</table>\n",
              "<p>5 rows × 133 columns</p>\n",
              "</div>"
            ],
            "text/plain": [
              "            Disease  NaN   skin_rash   chills   extra_marital_contacts  \\\n",
              "0  Fungal infection    0           1        0                        0   \n",
              "1  Fungal infection    0           1        0                        0   \n",
              "2  Fungal infection    0           0        0                        0   \n",
              "3  Fungal infection    0           1        0                        0   \n",
              "4  Fungal infection    0           1        0                        0   \n",
              "\n",
              "    high_fever   lack_of_concentration   acidity   spotting_ urination  \\\n",
              "0            0                       0         0                     0   \n",
              "1            0                       0         0                     0   \n",
              "2            0                       0         0                     0   \n",
              "3            0                       0         0                     0   \n",
              "4            0                       0         0                     0   \n",
              "\n",
              "    nodal_skin_eruptions  ...   dizziness   pain_behind_the_eyes  \\\n",
              "0                      1  ...           0                      0   \n",
              "1                      1  ...           0                      0   \n",
              "2                      1  ...           0                      0   \n",
              "3                      0  ...           0                      0   \n",
              "4                      1  ...           0                      0   \n",
              "\n",
              "    excessive_hunger   fatigue   weight_loss   brittle_nails  \\\n",
              "0                  0         0             0               0   \n",
              "1                  0         0             0               0   \n",
              "2                  0         0             0               0   \n",
              "3                  0         0             0               0   \n",
              "4                  0         0             0               0   \n",
              "\n",
              "    cold_hands_and_feets   receiving_blood_transfusion   swelling_of_stomach  \\\n",
              "0                      0                             0                     0   \n",
              "1                      0                             0                     0   \n",
              "2                      0                             0                     0   \n",
              "3                      0                             0                     0   \n",
              "4                      0                             0                     0   \n",
              "\n",
              "    watering_from_eyes  \n",
              "0                    0  \n",
              "1                    0  \n",
              "2                    0  \n",
              "3                    0  \n",
              "4                    0  \n",
              "\n",
              "[5 rows x 133 columns]"
            ]
          },
          "execution_count": 5,
          "metadata": {},
          "output_type": "execute_result"
        }
      ],
      "source": [
        "for s in sym:\n",
        "    sd_data[s] = sd_data.iloc[:, 1:].apply(lambda x: int(s in x.values), axis=1)\n",
        "\n",
        "sd_data_1 = sd_data.drop(columns=sc)\n",
        "sd_data_1.head()"
      ]
    },
    {
      "cell_type": "code",
      "execution_count": 6,
      "metadata": {
        "colab": {
          "base_uri": "https://localhost:8080/",
          "height": 386
        },
        "id": "DZ_G2w1OWjna",
        "outputId": "73dd0bc2-91e2-4d65-9cac-3ed028347ffe"
      },
      "outputs": [
        {
          "data": {
            "text/html": [
              "<div>\n",
              "<style scoped>\n",
              "    .dataframe tbody tr th:only-of-type {\n",
              "        vertical-align: middle;\n",
              "    }\n",
              "\n",
              "    .dataframe tbody tr th {\n",
              "        vertical-align: top;\n",
              "    }\n",
              "\n",
              "    .dataframe thead th {\n",
              "        text-align: right;\n",
              "    }\n",
              "</style>\n",
              "<table border=\"1\" class=\"dataframe\">\n",
              "  <thead>\n",
              "    <tr style=\"text-align: right;\">\n",
              "      <th></th>\n",
              "      <th>Disease</th>\n",
              "      <th>skin_rash</th>\n",
              "      <th>chills</th>\n",
              "      <th>extra_marital_contacts</th>\n",
              "      <th>high_fever</th>\n",
              "      <th>lack_of_concentration</th>\n",
              "      <th>acidity</th>\n",
              "      <th>spotting_ urination</th>\n",
              "      <th>nodal_skin_eruptions</th>\n",
              "      <th>dark_urine</th>\n",
              "      <th>...</th>\n",
              "      <th>dizziness</th>\n",
              "      <th>pain_behind_the_eyes</th>\n",
              "      <th>excessive_hunger</th>\n",
              "      <th>fatigue</th>\n",
              "      <th>weight_loss</th>\n",
              "      <th>brittle_nails</th>\n",
              "      <th>cold_hands_and_feets</th>\n",
              "      <th>receiving_blood_transfusion</th>\n",
              "      <th>swelling_of_stomach</th>\n",
              "      <th>watering_from_eyes</th>\n",
              "    </tr>\n",
              "  </thead>\n",
              "  <tbody>\n",
              "    <tr>\n",
              "      <th>0</th>\n",
              "      <td>Fungal infection</td>\n",
              "      <td>1</td>\n",
              "      <td>0</td>\n",
              "      <td>0</td>\n",
              "      <td>0</td>\n",
              "      <td>0</td>\n",
              "      <td>0</td>\n",
              "      <td>0</td>\n",
              "      <td>1</td>\n",
              "      <td>0</td>\n",
              "      <td>...</td>\n",
              "      <td>0</td>\n",
              "      <td>0</td>\n",
              "      <td>0</td>\n",
              "      <td>0</td>\n",
              "      <td>0</td>\n",
              "      <td>0</td>\n",
              "      <td>0</td>\n",
              "      <td>0</td>\n",
              "      <td>0</td>\n",
              "      <td>0</td>\n",
              "    </tr>\n",
              "    <tr>\n",
              "      <th>1</th>\n",
              "      <td>Fungal infection</td>\n",
              "      <td>1</td>\n",
              "      <td>0</td>\n",
              "      <td>0</td>\n",
              "      <td>0</td>\n",
              "      <td>0</td>\n",
              "      <td>0</td>\n",
              "      <td>0</td>\n",
              "      <td>1</td>\n",
              "      <td>0</td>\n",
              "      <td>...</td>\n",
              "      <td>0</td>\n",
              "      <td>0</td>\n",
              "      <td>0</td>\n",
              "      <td>0</td>\n",
              "      <td>0</td>\n",
              "      <td>0</td>\n",
              "      <td>0</td>\n",
              "      <td>0</td>\n",
              "      <td>0</td>\n",
              "      <td>0</td>\n",
              "    </tr>\n",
              "    <tr>\n",
              "      <th>2</th>\n",
              "      <td>Fungal infection</td>\n",
              "      <td>0</td>\n",
              "      <td>0</td>\n",
              "      <td>0</td>\n",
              "      <td>0</td>\n",
              "      <td>0</td>\n",
              "      <td>0</td>\n",
              "      <td>0</td>\n",
              "      <td>1</td>\n",
              "      <td>0</td>\n",
              "      <td>...</td>\n",
              "      <td>0</td>\n",
              "      <td>0</td>\n",
              "      <td>0</td>\n",
              "      <td>0</td>\n",
              "      <td>0</td>\n",
              "      <td>0</td>\n",
              "      <td>0</td>\n",
              "      <td>0</td>\n",
              "      <td>0</td>\n",
              "      <td>0</td>\n",
              "    </tr>\n",
              "    <tr>\n",
              "      <th>3</th>\n",
              "      <td>Fungal infection</td>\n",
              "      <td>1</td>\n",
              "      <td>0</td>\n",
              "      <td>0</td>\n",
              "      <td>0</td>\n",
              "      <td>0</td>\n",
              "      <td>0</td>\n",
              "      <td>0</td>\n",
              "      <td>0</td>\n",
              "      <td>0</td>\n",
              "      <td>...</td>\n",
              "      <td>0</td>\n",
              "      <td>0</td>\n",
              "      <td>0</td>\n",
              "      <td>0</td>\n",
              "      <td>0</td>\n",
              "      <td>0</td>\n",
              "      <td>0</td>\n",
              "      <td>0</td>\n",
              "      <td>0</td>\n",
              "      <td>0</td>\n",
              "    </tr>\n",
              "    <tr>\n",
              "      <th>4</th>\n",
              "      <td>Fungal infection</td>\n",
              "      <td>1</td>\n",
              "      <td>0</td>\n",
              "      <td>0</td>\n",
              "      <td>0</td>\n",
              "      <td>0</td>\n",
              "      <td>0</td>\n",
              "      <td>0</td>\n",
              "      <td>1</td>\n",
              "      <td>0</td>\n",
              "      <td>...</td>\n",
              "      <td>0</td>\n",
              "      <td>0</td>\n",
              "      <td>0</td>\n",
              "      <td>0</td>\n",
              "      <td>0</td>\n",
              "      <td>0</td>\n",
              "      <td>0</td>\n",
              "      <td>0</td>\n",
              "      <td>0</td>\n",
              "      <td>0</td>\n",
              "    </tr>\n",
              "  </tbody>\n",
              "</table>\n",
              "<p>5 rows × 132 columns</p>\n",
              "</div>"
            ],
            "text/plain": [
              "            Disease   skin_rash   chills   extra_marital_contacts  \\\n",
              "0  Fungal infection           1        0                        0   \n",
              "1  Fungal infection           1        0                        0   \n",
              "2  Fungal infection           0        0                        0   \n",
              "3  Fungal infection           1        0                        0   \n",
              "4  Fungal infection           1        0                        0   \n",
              "\n",
              "    high_fever   lack_of_concentration   acidity   spotting_ urination  \\\n",
              "0            0                       0         0                     0   \n",
              "1            0                       0         0                     0   \n",
              "2            0                       0         0                     0   \n",
              "3            0                       0         0                     0   \n",
              "4            0                       0         0                     0   \n",
              "\n",
              "    nodal_skin_eruptions   dark_urine  ...   dizziness   pain_behind_the_eyes  \\\n",
              "0                      1            0  ...           0                      0   \n",
              "1                      1            0  ...           0                      0   \n",
              "2                      1            0  ...           0                      0   \n",
              "3                      0            0  ...           0                      0   \n",
              "4                      1            0  ...           0                      0   \n",
              "\n",
              "    excessive_hunger   fatigue   weight_loss   brittle_nails  \\\n",
              "0                  0         0             0               0   \n",
              "1                  0         0             0               0   \n",
              "2                  0         0             0               0   \n",
              "3                  0         0             0               0   \n",
              "4                  0         0             0               0   \n",
              "\n",
              "    cold_hands_and_feets   receiving_blood_transfusion   swelling_of_stomach  \\\n",
              "0                      0                             0                     0   \n",
              "1                      0                             0                     0   \n",
              "2                      0                             0                     0   \n",
              "3                      0                             0                     0   \n",
              "4                      0                             0                     0   \n",
              "\n",
              "    watering_from_eyes  \n",
              "0                    0  \n",
              "1                    0  \n",
              "2                    0  \n",
              "3                    0  \n",
              "4                    0  \n",
              "\n",
              "[5 rows x 132 columns]"
            ]
          },
          "execution_count": 6,
          "metadata": {},
          "output_type": "execute_result"
        }
      ],
      "source": [
        "sd_data_1 = sd_data_1.loc[:, sd_data_1.columns.notna()]\n",
        "sd_data_1.head()"
      ]
    },
    {
      "cell_type": "code",
      "execution_count": 7,
      "metadata": {
        "id": "R0mxiOwZWlE1"
      },
      "outputs": [],
      "source": [
        "sd_data_2 = sd_data_1.drop(columns='Disease')\n"
      ]
    },
    {
      "cell_type": "code",
      "execution_count": 8,
      "metadata": {
        "id": "7qYTOPIlW1D-"
      },
      "outputs": [],
      "source": [
        "sd_data_2.loc['total']= sd_data_2.sum()"
      ]
    },
    {
      "cell_type": "code",
      "execution_count": 9,
      "metadata": {
        "colab": {
          "base_uri": "https://localhost:8080/"
        },
        "id": "mVscT625W54o",
        "outputId": "b3d41fa9-016b-4097-8326-888b0c4bfcb5"
      },
      "outputs": [
        {
          "name": "stdout",
          "output_type": "stream",
          "text": [
            "32\n"
          ]
        }
      ],
      "source": [
        "avg = sd_data_2.iloc[-1].sum()\n",
        "avg = avg//131\n",
        "l_sym = []\n",
        "for column in sd_data_2.columns:\n",
        "    if(sd_data_2.loc['total',column] > avg):\n",
        "        l_sym.append(column)\n",
        "l_sym.append('Disease')\n",
        "print(len(l_sym))"
      ]
    },
    {
      "cell_type": "code",
      "execution_count": 10,
      "metadata": {
        "id": "pRq_fxMSW8xv"
      },
      "outputs": [],
      "source": [
        "sd_data_3 = sd_data_1.drop(columns=[col for col in sd_data_1.columns if col not in l_sym])"
      ]
    },
    {
      "cell_type": "code",
      "execution_count": 50,
      "metadata": {
        "id": "VUqzrbnJYw8N"
      },
      "outputs": [],
      "source": [
        "#label_encoding the disease attribute\n",
        "# var_mod = ['Disease']\n",
        "# le = LabelEncoder()\n",
        "# for i in var_mod:\n",
        "#     sd_data_3[i] = le.fit_transform(sd_data_3[i])"
      ]
    },
    {
      "cell_type": "code",
      "execution_count": 52,
      "metadata": {},
      "outputs": [],
      "source": [
        "# np.save('classes.npy', le.classes_)"
      ]
    },
    {
      "cell_type": "code",
      "execution_count": 11,
      "metadata": {
        "id": "gf27ZcsHYy2Z"
      },
      "outputs": [],
      "source": [
        "X = sd_data_3.drop(columns=\"Disease\")\n",
        "y = sd_data_3[\"Disease\"]"
      ]
    },
    {
      "cell_type": "code",
      "execution_count": 12,
      "metadata": {
        "id": "G4-UBgWZY0f-"
      },
      "outputs": [],
      "source": [
        "#SVM\n",
        "model = svm.SVC(probability=True)\n",
        "model.fit(X, y)\n",
        "Pkl_Filename = \"model/SVM_Model.pkl\"\n",
        "\n",
        "with open(Pkl_Filename, 'wb') as file:\n",
        "    pickle.dump(model, file)"
      ]
    },
    {
      "cell_type": "code",
      "execution_count": 13,
      "metadata": {
        "id": "yzDSD6fiY2I8"
      },
      "outputs": [],
      "source": [
        "#Random Forest\n",
        "model1 = RandomForestClassifier()\n",
        "model1.fit(X, y)\n",
        "Pkl_Filename = \"model/Random_Forest_Model.pkl\"\n",
        "\n",
        "with open(Pkl_Filename, 'wb') as file:\n",
        "    pickle.dump(model1, file)"
      ]
    },
    {
      "cell_type": "code",
      "execution_count": 14,
      "metadata": {
        "id": "B9a0HW2HY35t"
      },
      "outputs": [],
      "source": [
        "#KNN\n",
        "model2 = KNeighborsClassifier()\n",
        "model2.fit(X, y)\n",
        "Pkl_Filename = \"model/KNN_Model.pkl\"\n",
        "\n",
        "with open(Pkl_Filename, 'wb') as file:\n",
        "    pickle.dump(model2, file)"
      ]
    },
    {
      "cell_type": "code",
      "execution_count": 15,
      "metadata": {
        "id": "I2UrJ3fCZv-U"
      },
      "outputs": [],
      "source": [
        "#Naive Bayes\n",
        "model3 = GaussianNB()\n",
        "model3.fit(X, y)\n",
        "Pkl_Filename = \"model/Naive_Bayes_Model.pkl\"\n",
        "\n",
        "with open(Pkl_Filename, 'wb') as file:\n",
        "    pickle.dump(model3, file)"
      ]
    },
    {
      "cell_type": "code",
      "execution_count": 16,
      "metadata": {
        "id": "pYBI_tNQZ5yC"
      },
      "outputs": [],
      "source": [
        "from pydantic import BaseModel\n",
        "\n",
        "class Symptom(BaseModel):\n",
        "    loss_of_balance: int\n",
        "    chest_pain: int\n",
        "    dark_urine: int\n",
        "    sweating: int\n",
        "    blurred_and_distorted_vision: int\n",
        "    abdominal_pain: int\n",
        "    joint_pain: int\n",
        "    fatigue: int\n",
        "    yellowish_skin: int\n",
        "    yellowing_of_eyes: int\n",
        "    phlegm: int\n",
        "    loss_of_appetite: int\n",
        "    diarrhoea: int\n",
        "    malaise: int\n",
        "    cough: int\n",
        "    high_fever: int\n",
        "    mild_fever: int\n",
        "    vomiting: int\n",
        "    breathlessness: int\n",
        "    swelled_lymph_nodes: int\n",
        "    headache: int\n",
        "    weight_loss: int\n",
        "    muscle_pain: int\n",
        "    nausea: int\n",
        "    irritability: int\n",
        "    dizziness: int\n",
        "    lethargy: int\n",
        "    skin_rash: int\n",
        "    itching: int\n",
        "    excessive_hunger: int\n",
        "    chills: int\n",
        "    class Config:\n",
        "        schema_extra = {\n",
        "            \"example\": {\n",
        "                \"loss_of_balance\": 0,\n",
        "                \"chest_pain\": 1,\n",
        "                \"dark_urine\": 0,\n",
        "                \"sweating\": 1,\n",
        "                \"blurred_and_distorted_vision\": 0,\n",
        "                \"abdominal_pain\": 1,\n",
        "                \"joint_pain\": 0,\n",
        "                \"fatigue\": 0,\n",
        "                \"yellowish_skin\": 0,\n",
        "                \"yellowing_of_eyes\": 0,\n",
        "                \"phlegm\": 0,\n",
        "                \"loss_of_appetite\": 0,\n",
        "                \"diarrhoea\": 0,\n",
        "                \"malaise\": 0,\n",
        "                \"cough\": 0,\n",
        "                \"high_fever\": 0,\n",
        "                \"mild_fever\": 0,\n",
        "                \"vomiting\": 0,\n",
        "                \"breathlessness\": 0,\n",
        "                \"swelled_lymph_nodes\": 0,\n",
        "                \"headache\": 0,\n",
        "                \"weight_loss\": 0,\n",
        "                \"muscle_pain\": 0,\n",
        "                \"nausea\": 0,\n",
        "                \"irritability\": 0,\n",
        "                \"dizziness\": 0,\n",
        "                \"lethargy\": 0,\n",
        "                \"skin_rash\": 0,\n",
        "                \"itching\": 0,\n",
        "                \"excessive_hunger\": 0,\n",
        "                \"chills\": 0,\n",
        "            }\n",
        "        }"
      ]
    },
    {
      "cell_type": "code",
      "execution_count": 18,
      "metadata": {
        "id": "3oxVP7mJdSU9"
      },
      "outputs": [],
      "source": [
        "from fastapi import FastAPI\n",
        "import pickle\n",
        "\n",
        "app = FastAPI()\n",
        "\n",
        "@app.on_event(\"startup\")\n",
        "def load_model():\n",
        "    global model, model1, model2, model3, encoder\n",
        "    encoder = LabelEncoder()\n",
        "    # encoder.classes_ = np.load('model/classes.npy', allow_pickle=True)\n",
        "    model = pickle.load(open(\"model/KNN_Model.pkl\", \"rb\"))\n",
        "    model1 = pickle.load(open(\"model/Naive_Bayes_Model.pkl\", \"rb\"))\n",
        "    model2 = pickle.load(open(\"model/Random_Forest_Model.pkl\", \"rb\"))\n",
        "    model3 = pickle.load(open(\"model/SVM_Model.pkl\", \"rb\"))\n",
        "\n",
        "@app.get('/')\n",
        "def index():\n",
        "    return {'message': 'This is the homepage of the API '}\n",
        "\n",
        "\n",
        "@app.post('/predict')\n",
        "def get_music_category(data: Symptom):\n",
        "    received = data.dict()\n",
        "    loss_of_balance = received['loss_of_balance']\n",
        "    chest_pain = received['chest_pain']\n",
        "    dark_urine = received['dark_urine']\n",
        "    sweating = received['sweating']\n",
        "    blurred_and_distorted_vision = received['blurred_and_distorted_vision']\n",
        "    abdominal_pain = received['abdominal_pain']\n",
        "    joint_pain = received['joint_pain']\n",
        "    fatigue = received['fatigue']\n",
        "    yellowish_skin = received['yellowish_skin']\n",
        "    yellowing_of_eyes = received['yellowing_of_eyes']\n",
        "    phlegm = received['phlegm']\n",
        "    loss_of_appetite = received['loss_of_appetite']\n",
        "    diarrhoea = received['diarrhoea']\n",
        "    malaise = received['malaise']\n",
        "    cough = received['cough']\n",
        "    high_fever = received['high_fever']\n",
        "    mild_fever = received['mild_fever']\n",
        "    vomiting = received['vomiting']\n",
        "    breathlessness = received['breathlessness']\n",
        "    swelled_lymph_nodes = received['swelled_lymph_nodes']\n",
        "    headache = received['headache']\n",
        "    weight_loss = received['weight_loss']\n",
        "    muscle_pain = received['muscle_pain']\n",
        "    nausea = received['nausea']\n",
        "    irritability = received['irritability']\n",
        "    dizziness = received['dizziness']\n",
        "    lethargy = received['lethargy']\n",
        "    skin_rash = received['skin_rash']\n",
        "    itching = received['itching']\n",
        "    excessive_hunger = received['excessive_hunger']\n",
        "    chills = received['chills']\n",
        "    dis_name = []\n",
        "    pred_name = model.predict([[loss_of_balance, chest_pain, dark_urine, sweating, blurred_and_distorted_vision, abdominal_pain, joint_pain,\n",
        "                                fatigue, yellowish_skin, yellowing_of_eyes, phlegm, loss_of_appetite, diarrhoea, malaise, cough,\n",
        "                                high_fever, mild_fever, vomiting, breathlessness, swelled_lymph_nodes, headache, weight_loss, muscle_pain,\n",
        "                                nausea, irritability, dizziness, lethargy, skin_rash, itching, excessive_hunger, chills]]).tolist()[0]\n",
        "    # dis_name.append(le.inverse_transform(pred_name))\n",
        "    dis_name.append(pred_name)\n",
        "    pred_name = model1.predict([[loss_of_balance, chest_pain, dark_urine, sweating, blurred_and_distorted_vision, abdominal_pain, joint_pain,\n",
        "                                fatigue, yellowish_skin, yellowing_of_eyes, phlegm, loss_of_appetite, diarrhoea, malaise, cough,\n",
        "                                high_fever, mild_fever, vomiting, breathlessness, swelled_lymph_nodes, headache, weight_loss, muscle_pain,\n",
        "                                nausea, irritability, dizziness, lethargy, skin_rash, itching, excessive_hunger, chills]]).tolist()[0]\n",
        "    dis_name.append(pred_name)\n",
        "    pred_name = model2.predict([[loss_of_balance, chest_pain, dark_urine, sweating, blurred_and_distorted_vision, abdominal_pain, joint_pain,\n",
        "                                fatigue, yellowish_skin, yellowing_of_eyes, phlegm, loss_of_appetite, diarrhoea, malaise, cough,\n",
        "                                high_fever, mild_fever, vomiting, breathlessness, swelled_lymph_nodes, headache, weight_loss, muscle_pain,\n",
        "                                nausea, irritability, dizziness, lethargy, skin_rash, itching, excessive_hunger, chills]]).tolist()[0]\n",
        "    dis_name.append(pred_name)\n",
        "    pred_name = model3.predict([[loss_of_balance, chest_pain, dark_urine, sweating, blurred_and_distorted_vision, abdominal_pain, joint_pain,\n",
        "                                fatigue, yellowish_skin, yellowing_of_eyes, phlegm, loss_of_appetite, diarrhoea, malaise, cough,\n",
        "                                high_fever, mild_fever, vomiting, breathlessness, swelled_lymph_nodes, headache, weight_loss, muscle_pain,\n",
        "                                nausea, irritability, dizziness, lethargy, skin_rash, itching, excessive_hunger, chills]]).tolist()[0]\n",
        "    dis_name.append(pred_name)\n",
        "    return {'prediction': dis_name}"
      ]
    },
    {
      "cell_type": "code",
      "execution_count": 19,
      "metadata": {
        "id": "5k5x3w1grElk"
      },
      "outputs": [],
      "source": [
        "from colabcode import ColabCode\n",
        "server = ColabCode(port=10000, code=False)"
      ]
    },
    {
      "cell_type": "code",
      "execution_count": 20,
      "metadata": {
        "colab": {
          "base_uri": "https://localhost:8080/"
        },
        "id": "bkBvo5bZrHoC",
        "outputId": "e006f154-8790-47bc-b0ce-ae269c4152df"
      },
      "outputs": [
        {
          "name": "stderr",
          "output_type": "stream",
          "text": [
            "t=2023-07-21T18:11:38+0530 lvl=warn msg=\"ngrok config file found at legacy location, move to XDG location\" xdg_path=C:\\\\Users\\\\kiran\\\\AppData\\\\Local/ngrok/ngrok.yml legacy_path=C:\\\\Users\\\\kiran\\\\.ngrok2\\\\ngrok.yml\n",
            "INFO:     Started server process [11756]\n",
            "INFO:     Waiting for application startup.\n",
            "INFO:     Application startup complete.\n",
            "INFO:     Uvicorn running on http://127.0.0.1:10000 (Press CTRL+C to quit)\n"
          ]
        },
        {
          "name": "stdout",
          "output_type": "stream",
          "text": [
            "Public URL: NgrokTunnel: \"https://aa29-103-68-38-66.ngrok-free.app\" -> \"http://localhost:10000\"\n",
            "INFO:     103.68.38.66:0 - \"GET / HTTP/1.1\" 200 OK\n",
            "INFO:     103.68.38.66:0 - \"GET /favicon.ico HTTP/1.1\" 404 Not Found\n",
            "INFO:     103.68.38.66:0 - \"GET /docs HTTP/1.1\" 200 OK\n",
            "INFO:     103.68.38.66:0 - \"GET /openapi.json HTTP/1.1\" 200 OK\n",
            "INFO:     103.68.38.66:0 - \"POST /predict HTTP/1.1\" 200 OK\n"
          ]
        },
        {
          "name": "stderr",
          "output_type": "stream",
          "text": [
            "INFO:     Shutting down\n",
            "INFO:     Waiting for application shutdown.\n",
            "INFO:     Application shutdown complete.\n",
            "INFO:     Finished server process [11756]\n"
          ]
        }
      ],
      "source": [
        "server.run_app(app=app)"
      ]
    }
  ],
  "metadata": {
    "colab": {
      "provenance": []
    },
    "kernelspec": {
      "display_name": "Python 3",
      "name": "python3"
    },
    "language_info": {
      "codemirror_mode": {
        "name": "ipython",
        "version": 3
      },
      "file_extension": ".py",
      "mimetype": "text/x-python",
      "name": "python",
      "nbconvert_exporter": "python",
      "pygments_lexer": "ipython3",
      "version": "3.8.17"
    }
  },
  "nbformat": 4,
  "nbformat_minor": 0
}
